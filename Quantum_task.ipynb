{
 "cells": [
  {
   "cell_type": "markdown",
   "metadata": {},
   "source": [
    "# Теоретические модели вычислений \n",
    "## ДЗ №3: Машины Тьюринга и квантовые вычисления\n",
    "### Тимченко Сергей А-13б-19 "
   ]
  },
  {
   "cell_type": "code",
   "execution_count": 418,
   "metadata": {},
   "outputs": [],
   "source": [
    "from qiskit import QuantumCircuit, ClassicalRegister, QuantumRegister\n",
    "from qiskit.quantum_info import Statevector\n",
    "from qiskit.circuit import Qubit\n",
    "import math"
   ]
  },
  {
   "cell_type": "markdown",
   "metadata": {},
   "source": [
    "$\\newcommand{\\Ket}[1]{\\left|#1\\right>}$\n",
    "# Генерация суперпозиций 1\n",
    "\n",
    "Дано $N$ кубитов ($1 \\le N \\le 8$) в нулевом состоянии $\\Ket{0\\dots0}$. Также дана некоторая последовательность битов, которое задаёт ненулевое базисное состояние размера $N$. Задача получить суперпозицию нулевого состояния и заданного.\n",
    "\n",
    "$$\\Ket{S} = \\frac{1}{\\sqrt2}(\\Ket{0\\dots0} +\\Ket{\\psi})$$\n",
    "\n",
    "То есть требуется реализовать операцию, которая принимает на вход:\n",
    "\n",
    "1. Массив кубитов $q_s$\n",
    "2. Массив битов $bits$ описывающих некоторое состояние $\\Ket{\\psi}$. Это массив имеет тот же самый размер, что и $q_s$. Первый элемент этого массива равен $1$.\n",
    "\n"
   ]
  },
  {
   "cell_type": "markdown",
   "metadata": {},
   "source": [
    "### Ввод значений\n",
    "\n",
    "Предлагаю интерактивный вариант: вводим $N$ и массив $bits$. Значение $True$ соответствует любому символу, для ввода $False$ использовать клавишу $Enter$:"
   ]
  },
  {
   "cell_type": "code",
   "execution_count": 398,
   "metadata": {
    "scrolled": true
   },
   "outputs": [
    {
     "name": "stdout",
     "output_type": "stream",
     "text": [
      "Input N 5\n",
      "------------ Generating psi -----------\n",
      "Input any symbol if True, skip if False\n",
      "1\n",
      "\n",
      "1\n",
      "1\n",
      "\n",
      "[True, False, True, True, False]\n"
     ]
    }
   ],
   "source": [
    "N = int(input('Input N '))\n",
    "\n",
    "q = QuantumRegister(N, name='q')   \n",
    "bits = [] \n",
    "\n",
    "print('------------ Generating psi -----------')\n",
    "print('Input any symbol if True, skip if False')\n",
    "for i in range (N):\n",
    "    bits.append(bool(input()))\n",
    "\n",
    "print(bits)"
   ]
  },
  {
   "cell_type": "markdown",
   "metadata": {},
   "source": [
    "### Процедура решения\n",
    "\n",
    "Первый кубит всегда будет различен (это выходит из условия 2). Следовательно для первого кубита всегда применяем оператор Адамара. Далее смотрим на вектор $bits$: если значение элемента равно $True$, т.е. кубит равен $1$, то мы спутываем первый кубит с соответствующим по номеру кубитом. По сути, это частный случай генерации суперпозиции для двух базисных состояний. "
   ]
  },
  {
   "cell_type": "code",
   "execution_count": 402,
   "metadata": {},
   "outputs": [],
   "source": [
    "def Solve_First(q, psi):\n",
    "    global circuit\n",
    "    circuit.h(0)                    # Hadamar for first qubit\n",
    "    circuit.barrier()\n",
    "    for i in range (1, len(psi)):\n",
    "        if psi[i]:                  # for each 1 qubit in 𝜓 making CNOT\n",
    "            circuit.cx(q[0], q[i])"
   ]
  },
  {
   "cell_type": "markdown",
   "metadata": {},
   "source": [
    "### Тест\n",
    "\n",
    "Запускаем, подаем на вход кубит в нулевом состоянии и массив битов. Сохраняем картинку в файл.  \n",
    "*Примечание*: почему-то у меня не работает преобразование в $LaTeX$ формат, но можно вытащить сурс отсюда. "
   ]
  },
  {
   "cell_type": "code",
   "execution_count": 403,
   "metadata": {},
   "outputs": [
    {
     "data": {
      "image/png": "[encoded data removed]",
      "text/plain": [
       "<Figure size 371.241x325.08 with 1 Axes>"
      ]
     },
     "execution_count": 403,
     "metadata": {},
     "output_type": "execute_result"
    }
   ],
   "source": [
    "circuit = QuantumCircuit(q)\n",
    "Solve_First(q, bits)\n",
    "circuit.draw(output='mpl', filename='circ_1.jpg', initial_state=True)\n",
    "#circuit.draw(output='latex_source',initial_state=True)"
   ]
  },
  {
   "cell_type": "markdown",
   "metadata": {},
   "source": [
    "### Проверяем"
   ]
  },
  {
   "cell_type": "code",
   "execution_count": 404,
   "metadata": {},
   "outputs": [
    {
     "data": {
      "text/latex": [
       "$$\\frac{\\sqrt{2}}{2} |00000\\rangle+\\frac{\\sqrt{2}}{2} |01101\\rangle$$"
      ],
      "text/plain": [
       "<IPython.core.display.Latex object>"
      ]
     },
     "execution_count": 404,
     "metadata": {},
     "output_type": "execute_result"
    }
   ],
   "source": [
    "res = Statevector(circuit)\n",
    "res.draw('latex')"
   ]
  },
  {
   "cell_type": "markdown",
   "metadata": {},
   "source": [
    "Ура верный ответ. Задачу решили верно. "
   ]
  },
  {
   "cell_type": "markdown",
   "metadata": {},
   "source": [
    "# Различение состояний 1\n",
    "Дано $N$ кубитов ($1 \\le N \\le 8$), которые могут быть в одном из двух состояний:\n",
    "\n",
    "$$ \\Ket{GHZ} = \\frac{1}{\\sqrt2}(\\Ket{0\\dots0} +\\Ket{1\\dots1})$$\n",
    "$$ \\Ket{W} = \\frac{1}{\\sqrt N}(\\Ket{10\\dots00}+\\Ket{01\\dots00} + \\dots +\\Ket{00\\dots01})$$\n",
    "\n",
    "Требуется выполнить необходимые преобразования, чтобы точно различить эти два состояния. Возвращать $0$, если первое состояние и 1, если второе."
   ]
  },
  {
   "cell_type": "markdown",
   "metadata": {},
   "source": [
    "### Создание состояний\n",
    "Сразу же создадим два состояния для проверки работоспособности. Введем новое N:"
   ]
  },
  {
   "cell_type": "code",
   "execution_count": 405,
   "metadata": {},
   "outputs": [
    {
     "name": "stdout",
     "output_type": "stream",
     "text": [
      "Input new N: 4\n"
     ]
    }
   ],
   "source": [
    "N = int(input('Input new N: '))"
   ]
  },
  {
   "cell_type": "markdown",
   "metadata": {},
   "source": [
    "Для создания состояний создаем массивы с соотвествующими значениями, как бы раскрываем значение кубитов. Далее переделываем вектор в вектор состояния. Проверим его с помощью построения."
   ]
  },
  {
   "cell_type": "code",
   "execution_count": 406,
   "metadata": {},
   "outputs": [
    {
     "data": {
      "text/latex": [
       "$$\\frac{\\sqrt{2}}{2} |0000\\rangle+\\frac{\\sqrt{2}}{2} |1111\\rangle$$"
      ],
      "text/plain": [
       "<IPython.core.display.Latex object>"
      ]
     },
     "execution_count": 406,
     "metadata": {},
     "output_type": "execute_result"
    }
   ],
   "source": [
    "ghz = [1/math.sqrt(2)]\n",
    "for i in range (1, 2**N-1):\n",
    "    ghz.append(0)\n",
    "ghz.append(1/math.sqrt(2))\n",
    "\n",
    "ghz = Statevector(ghz)\n",
    "ghz.draw('latex')\n",
    "#ghz.measure()[0]"
   ]
  },
  {
   "cell_type": "markdown",
   "metadata": {},
   "source": [
    "В случае второго состояния значения $1 \\over \\sqrt{N}$ будут только на позициях в векторе, являющихся степенью $2$."
   ]
  },
  {
   "cell_type": "code",
   "execution_count": 407,
   "metadata": {
    "scrolled": false
   },
   "outputs": [
    {
     "data": {
      "text/latex": [
       "$$\\frac{1}{2} |0001\\rangle+\\frac{1}{2} |0010\\rangle+\\frac{1}{2} |0100\\rangle+\\frac{1}{2} |1000\\rangle$$"
      ],
      "text/plain": [
       "<IPython.core.display.Latex object>"
      ]
     },
     "execution_count": 407,
     "metadata": {},
     "output_type": "execute_result"
    }
   ],
   "source": [
    "w = [0]\n",
    "for i in range (1, 2**N):\n",
    "    if i & i-1:\n",
    "        w.append(0)\n",
    "    else:\n",
    "        w.append(1/math.sqrt(N))\n",
    "w = Statevector(w)\n",
    "w.draw('latex')\n",
    "#w.measure()[0]"
   ]
  },
  {
   "cell_type": "markdown",
   "metadata": {},
   "source": [
    "### Функция решения \n",
    "На вход процедура получает $N$ кубитов. \n",
    "Для различения состояний пользуемся следующими соображениями:\n",
    "1. Первое состояние при измерении дает все кубиты либо 1, либо 0. \n",
    "2. Второе состояние при измерении дает только один купит 1, остальные 0. \n",
    "\n",
    "Также обратим внимание на особый случай $N=1$:\n",
    "$$ \\Ket{GHZ} = \\frac{1}{\\sqrt2}(\\Ket{0} +\\Ket{1})$$\n",
    "$$ \\Ket{W} = \\Ket{1}$$\n",
    "\n",
    "Соответственно алгоритм действий:\n",
    "- Измеряем кубиты. Кстати $qiskit$ в данном случае поможет сделать это без цикла. \n",
    "- Учитываем особый случай и если количество кубитов равно 1 и заданное состояние равно $\\Ket{1}$, то определяем его как второе состояние, иначе первое.\n",
    "- В ином случае, если количество кубитов больше 1, то считаем единичные кубиты, полученные после измерения. \n",
    "- Если получили только 1 единичный кубит, то заданное состояние - второе, иначе первое."
   ]
  },
  {
   "cell_type": "code",
   "execution_count": 408,
   "metadata": {},
   "outputs": [
    {
     "data": {
      "text/latex": [
       "$$ |1\\rangle$$"
      ],
      "text/plain": [
       "<IPython.core.display.Latex object>"
      ]
     },
     "execution_count": 408,
     "metadata": {},
     "output_type": "execute_result"
    }
   ],
   "source": [
    "One = Statevector([0,1])\n",
    "One.draw('latex')"
   ]
  },
  {
   "cell_type": "code",
   "execution_count": 409,
   "metadata": {},
   "outputs": [],
   "source": [
    "def Solve_Second(q):\n",
    "    str = q.measure()[0]   # measuring qubits \n",
    "    if (len(str) == 1):    # exception claimed\n",
    "        if q == One:\n",
    "            return 1\n",
    "        else:\n",
    "            return 0\n",
    "    \n",
    "    i = 0\n",
    "    for qubit in str:\n",
    "        if qubit == '1':\n",
    "            i+=1\n",
    "    if (i == 1):\n",
    "        return 1\n",
    "    else:\n",
    "        return 0\n",
    "    return i"
   ]
  },
  {
   "cell_type": "markdown",
   "metadata": {},
   "source": [
    "### Тест\n",
    "Подаем в функцию одно из созданных состояний:"
   ]
  },
  {
   "cell_type": "code",
   "execution_count": 410,
   "metadata": {
    "scrolled": true
   },
   "outputs": [
    {
     "data": {
      "text/plain": [
       "1"
      ]
     },
     "execution_count": 410,
     "metadata": {},
     "output_type": "execute_result"
    }
   ],
   "source": [
    "Solve_Second(w)"
   ]
  },
  {
   "cell_type": "markdown",
   "metadata": {},
   "source": [
    "# Различение состояний 2 (2 балла)\n",
    "Дано $2$ кубита, которые могут быть в одном из четырех состояний:\n",
    "\n",
    "$$\\Ket{S_0} = \\frac{1}{2}(\\Ket{00} + \\Ket{01} + \\Ket{10} + \\Ket{11})$$\n",
    "$$\\Ket{S_1} = \\frac{1}{2}(\\Ket{00} - \\Ket{01} + \\Ket{10} - \\Ket{11})$$\n",
    "$$\\Ket{S_2} = \\frac{1}{2}(\\Ket{00} + \\Ket{01} - \\Ket{10} - \\Ket{11})$$\n",
    "$$\\Ket{S_3} = \\frac{1}{2}(\\Ket{00} - \\Ket{01} - \\Ket{10} + \\Ket{11})$$\n",
    "\n",
    "\n",
    "Требуется выполнить необходимые преобразования, чтобы точно различить эти четыре состояния. Возвращать требуется индекс состояния (от $0$ до $3$). "
   ]
  },
  {
   "cell_type": "markdown",
   "metadata": {},
   "source": [
    "### Создание состояний\n",
    "Создаем все 4 состояния для дальнейших тестов. Реализация аналогична предыдущему пункту, только в данном случае создание $Statevector$ элементарно. "
   ]
  },
  {
   "cell_type": "code",
   "execution_count": 411,
   "metadata": {},
   "outputs": [],
   "source": [
    "S_1 = Statevector([1/2, 1/2, 1/2, 1/2])\n",
    "S_2 = Statevector([1/2, -1/2, 1/2, -1/2])\n",
    "S_3 = Statevector([1/2, 1/2, -1/2, -1/2])\n",
    "S_4 = Statevector([1/2, -1/2, -1/2, 1/2])\n",
    "\n",
    "# You can check here \n",
    "#S_1.draw('latex')\n",
    "#S_2.draw('latex')\n",
    "#S_3.draw('latex')\n",
    "#S_4.draw('latex')"
   ]
  },
  {
   "cell_type": "markdown",
   "metadata": {},
   "source": [
    "### Альтернативное создание состояний\n",
    "Кстати, покажу, как можно создать данные состояния с помощью цепей. \n",
    "Как создать каждое из состояний:\n",
    "- Применить к каждому кубиту оператор Адамара (гейт $H$)\n",
    "- В зависимости от состояний делаем следующее: \n",
    "    - Состояние 1: цепь готова после предыдущего пункта \n",
    "    - Состояние 2: применяем гейт $Z$ к 1 кубиту \n",
    "    - Состояние 3: применяем гейт $Z$ к 2 кубиту\n",
    "    - Состояние 4: применяем гейт $Z$ к каждому кубиту\n",
    "    \n",
    "Предлагаю интерактивно посмотреть на каждое из состояний:"
   ]
  },
  {
   "cell_type": "code",
   "execution_count": 413,
   "metadata": {},
   "outputs": [
    {
     "name": "stdout",
     "output_type": "stream",
     "text": [
      "Input number of condition: 1\n"
     ]
    }
   ],
   "source": [
    "i = int(input('Input number of condition: '))"
   ]
  },
  {
   "cell_type": "code",
   "execution_count": 414,
   "metadata": {},
   "outputs": [
    {
     "data": {
      "text/html": [
       "<pre style=\"word-wrap: normal;white-space: pre;background: #fff0;line-height: 1.1;font-family: &quot;Courier New&quot;,Courier,monospace\">     ┌───┐\n",
       "q_0: ┤ H ├\n",
       "     ├───┤\n",
       "q_1: ┤ H ├\n",
       "     └───┘</pre>"
      ],
      "text/plain": [
       "     ┌───┐\n",
       "q_0: ┤ H ├\n",
       "     ├───┤\n",
       "q_1: ┤ H ├\n",
       "     └───┘"
      ]
     },
     "execution_count": 414,
     "metadata": {},
     "output_type": "execute_result"
    }
   ],
   "source": [
    "q = QuantumRegister(2, name='q')\n",
    "circuit = QuantumCircuit(q)\n",
    "circuit.h(range(2))\n",
    "if (i == 2) or (i == 4):\n",
    "    circuit.z(0)\n",
    "if (i == 3) or (i == 4):\n",
    "    circuit.z(1)\n",
    "circuit.draw()"
   ]
  },
  {
   "cell_type": "markdown",
   "metadata": {},
   "source": [
    "Проверяем:"
   ]
  },
  {
   "cell_type": "code",
   "execution_count": 415,
   "metadata": {},
   "outputs": [
    {
     "data": {
      "text/latex": [
       "$$\\frac{1}{2} |00\\rangle+\\frac{1}{2} |01\\rangle+\\frac{1}{2} |10\\rangle+\\frac{1}{2} |11\\rangle$$"
      ],
      "text/plain": [
       "<IPython.core.display.Latex object>"
      ]
     },
     "execution_count": 415,
     "metadata": {},
     "output_type": "execute_result"
    }
   ],
   "source": [
    "res = Statevector.from_label('00')\n",
    "res = res.evolve(circuit)\n",
    "res.draw('latex')"
   ]
  },
  {
   "cell_type": "markdown",
   "metadata": {},
   "source": [
    "### Процедура решения \n",
    "Идея реализации и решения состоит в применении оператора Адамара для каждого из двух кубитов. За счет этого у нас получатся 4 различных состояния, которые в последтвии мы просто измерим. \n",
    "1. Для проведения теоритеческой части нам понадобится матрица оператора Адамара для 2-х кубитов: \n",
    "\n",
    "$$\n",
    "H^{\\otimes 2} = \\frac{1}{2}\n",
    "   \\begin{pmatrix}\\begin{array}{rrrr}\n",
    "    1 &  1 &  1 &  1\\\\\n",
    "    1 & -1 &  1 & -1\\\\\n",
    "    1 &  1 & -1 & -1\\\\\n",
    "    1 & -1 & -1 &  1\n",
    "    \\end{array}\\end{pmatrix}\n",
    "$$"
   ]
  },
  {
   "cell_type": "markdown",
   "metadata": {},
   "source": [
    "2. Теперь переведем все 4 состояния в векторный вид:\n",
    "\n",
    "$$\n",
    "\\Ket{S_1} = \\frac{1}{2} \\\n",
    "   \\begin{pmatrix}\\begin{array}{r}\n",
    "    1 \\\\\n",
    "    1 \\\\\n",
    "    1 \\\\\n",
    "    1 \n",
    "    \\end{array}\\end{pmatrix}, \\\n",
    "\\Ket{S_2} = \\frac{1}{2} \\\n",
    "   \\begin{pmatrix}\\begin{array}{r}\n",
    "    1 \\\\\n",
    "    -1 \\\\\n",
    "    1 \\\\\n",
    "    -1 \n",
    "    \\end{array}\\end{pmatrix}, \\\n",
    "\\Ket{S_3} = \\frac{1}{2} \\\n",
    "   \\begin{pmatrix}\\begin{array}{r}\n",
    "    1 \\\\\n",
    "    1 \\\\\n",
    "    -1 \\\\\n",
    "    -1 \n",
    "    \\end{array}\\end{pmatrix}, \\\n",
    "\\Ket{S_4} = \\frac{1}{2} \\\n",
    "   \\begin{pmatrix}\\begin{array}{r}\n",
    "    1 \\\\\n",
    "    -1 \\\\\n",
    "    -1 \\\\\n",
    "    1 \n",
    "    \\end{array}\\end{pmatrix}\n",
    "$$"
   ]
  },
  {
   "cell_type": "markdown",
   "metadata": {},
   "source": [
    "3. Осталось применить оператор Адамара и посмотреть на результат. Предоставлю подробное решение для первого векторного состояния, остальное по аналогии реализуется:\n",
    "\n",
    "$$\n",
    "H^{\\otimes 2} \\Ket{S_1} = \\frac{1}{2}\n",
    "   \\begin{pmatrix}\\begin{array}{rrrr}\n",
    "    1 &  1 &  1 &  1\\\\\n",
    "    1 & -1 &  1 & -1\\\\\n",
    "    1 &  1 & -1 & -1\\\\\n",
    "    1 & -1 & -1 &  1\n",
    "    \\end{array}\\end{pmatrix} \\frac{1}{2} \\\n",
    "   \\begin{pmatrix}\\begin{array}{r}\n",
    "    1 \\\\\n",
    "    1 \\\\\n",
    "    1 \\\\\n",
    "    1 \n",
    "    \\end{array}\\end{pmatrix} = \n",
    "    \\frac{1}{4} \\\n",
    "   \\begin{pmatrix}\\begin{array}{r}\n",
    "    1 + 1 + 1 + 1 \\\\\n",
    "    1 - 1 + 1 - 1 \\\\\n",
    "    1 + 1 - 1 - 1 \\\\\n",
    "    1 - 1 - 1 + 1\n",
    "    \\end{array}\\end{pmatrix} = \n",
    "    \\frac{1}{4} \\\n",
    "   \\begin{pmatrix}\\begin{array}{r}\n",
    "    4 \\\\\n",
    "    0 \\\\\n",
    "    0 \\\\\n",
    "    0\n",
    "    \\end{array}\\end{pmatrix} = \n",
    "   \\begin{pmatrix}\\begin{array}{r}\n",
    "    1 \\\\\n",
    "    0 \\\\\n",
    "    0 \\\\\n",
    "    0\n",
    "    \\end{array}\\end{pmatrix}\n",
    "$$"
   ]
  },
  {
   "cell_type": "markdown",
   "metadata": {},
   "source": [
    "    Тогда: \n",
    "$$\n",
    "\\Ket{S_1} = \n",
    "   \\begin{pmatrix}\\begin{array}{r}\n",
    "    1 \\\\\n",
    "    0 \\\\\n",
    "    0 \\\\\n",
    "    0 \n",
    "    \\end{array}\\end{pmatrix}, \\\n",
    "\\Ket{S_2} = \n",
    "   \\begin{pmatrix}\\begin{array}{r}\n",
    "    0 \\\\\n",
    "    1 \\\\\n",
    "    0 \\\\\n",
    "    0 \n",
    "    \\end{array}\\end{pmatrix}, \\\n",
    "\\Ket{S_3} = \n",
    "   \\begin{pmatrix}\\begin{array}{r}\n",
    "    0 \\\\\n",
    "    0 \\\\\n",
    "    1 \\\\\n",
    "    0 \n",
    "    \\end{array}\\end{pmatrix}, \\\n",
    "\\Ket{S_4} = \n",
    "   \\begin{pmatrix}\\begin{array}{r}\n",
    "    0 \\\\\n",
    "    0 \\\\\n",
    "    0 \\\\\n",
    "    1 \n",
    "    \\end{array}\\end{pmatrix}\n",
    "$$"
   ]
  },
  {
   "cell_type": "markdown",
   "metadata": {},
   "source": [
    "4. Переводим обратно наши состояния и получаем:\n",
    "\n",
    "$$\n",
    "\\Ket{S_1} = \\Ket{00}, \n",
    "\\Ket{S_2} = \\Ket{01},\n",
    "\\Ket{S_3} = \\Ket{10},\n",
    "\\Ket{S_4} = \\Ket{11}.\n",
    "$$\n",
    "\n",
    "$\\quad \\ \\ $А это уже как мы знаем легко отличить, просто измерив."
   ]
  },
  {
   "cell_type": "markdown",
   "metadata": {},
   "source": [
    "Вообще, грубо говоря, можно было объединить все состояния в одну матрицу (коэффициент вынесем за матрицу) и увидеть следующее:\n",
    "\n",
    "$$\n",
    "\\begin{pmatrix}\\begin{array}{r}\n",
    "\\Ket{S_1} & \\Ket{S_2} & \\Ket{S_3} & \\Ket{S_4}\n",
    "\\end{array}\\end{pmatrix}\n",
    "= \\frac{1}{2}\n",
    "   \\begin{pmatrix}\\begin{array}{rrrr}\n",
    "    1 &  1 &  1 &  1\\\\\n",
    "    1 & -1 &  1 & -1\\\\\n",
    "    1 &  1 & -1 & -1\\\\\n",
    "    1 & -1 & -1 &  1\n",
    "    \\end{array}\\end{pmatrix}, \n",
    "$$"
   ]
  },
  {
   "cell_type": "markdown",
   "metadata": {},
   "source": [
    "что и являтеся $H^{\\otimes 2}$. Значит в соответствии со свойством матрицы Адамара:\n",
    "\n",
    "$$\n",
    "H^{\\otimes 2 *} = \\frac{1}{2}\n",
    "   \\begin{pmatrix}\\begin{array}{rrrr}\n",
    "    1 &  1 &  1 &  1\\\\\n",
    "    1 & -1 &  1 & -1\\\\\n",
    "    1 &  1 & -1 & -1\\\\\n",
    "    1 & -1 & -1 &  1\n",
    "    \\end{array}\\end{pmatrix} \\\\ \\\\\n",
    "H^{\\otimes 2} H^{\\otimes 2*} = \\begin{pmatrix}\\begin{array}{rrrr}\n",
    "    1 &  0 &  0 &  0\\\\\n",
    "    0 &  1 &  0 &  0\\\\\n",
    "    0 &  0 &  1 &  0\\\\\n",
    "    0 &  0 &  0 &  1\n",
    "    \\end{array}\\end{pmatrix}\n",
    "$$"
   ]
  },
  {
   "cell_type": "code",
   "execution_count": 416,
   "metadata": {},
   "outputs": [],
   "source": [
    "def Solve_Third(q):\n",
    "    global circuit\n",
    "    circuit.initialize(q)         # putting our statevector into circut\n",
    "    circuit.h(range(2))           # making Hadamar for both qubits\n",
    "    \n",
    "    state = Statevector(circuit)\n",
    "    res = state.measure()[0]      # measuring qubits \n",
    "    if res[0] == '0':\n",
    "        if res[1] == '0':\n",
    "            return 0\n",
    "        else:\n",
    "            return 1\n",
    "    else:\n",
    "        if res[1] == '0':\n",
    "            return 2\n",
    "        else:\n",
    "            return 3"
   ]
  },
  {
   "cell_type": "code",
   "execution_count": 417,
   "metadata": {},
   "outputs": [
    {
     "data": {
      "text/plain": [
       "2"
      ]
     },
     "execution_count": 417,
     "metadata": {},
     "output_type": "execute_result"
    }
   ],
   "source": [
    "circuit = QuantumCircuit(2)\n",
    "Solve_Third(S_3)"
   ]
  },
  {
   "cell_type": "code",
   "execution_count": null,
   "metadata": {},
   "outputs": [],
   "source": []
  }
 ],
 "metadata": {
  "kernelspec": {
   "display_name": "Python 3",
   "language": "python",
   "name": "python3"
  },
  "language_info": {
   "codemirror_mode": {
    "name": "ipython",
    "version": 3
   },
   "file_extension": ".py",
   "mimetype": "text/x-python",
   "name": "python",
   "nbconvert_exporter": "python",
   "pygments_lexer": "ipython3",
   "version": "3.8.5"
  }
 },
 "nbformat": 4,
 "nbformat_minor": 4
}
